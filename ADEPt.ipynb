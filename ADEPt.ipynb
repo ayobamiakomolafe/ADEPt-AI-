{
  "nbformat": 4,
  "nbformat_minor": 0,
  "metadata": {
    "colab": {
      "provenance": [],
      "collapsed_sections": []
    },
    "kernelspec": {
      "name": "python3",
      "display_name": "Python 3"
    },
    "language_info": {
      "name": "python"
    },
    "gpuClass": "standard"
  },
  "cells": [
    {
      "cell_type": "markdown",
      "source": [
        "**Data Extraction**\n",
        ":Parsing the XML data to CSV"
      ],
      "metadata": {
        "id": "e7FAjYOSs6Kk"
      }
    },
    {
      "cell_type": "code",
      "source": [
        "import xml.etree.ElementTree as ET\n",
        "# Directory to XML file\n",
        "x = ET.parse(\"/content/drive/MyDrive/parse/3_ADR22Q1.xml\") \n",
        "root = x.getroot()\n",
        "sfs=root.findall('safetyreport')\n",
        "print(len(sfs))"
      ],
      "metadata": {
        "id": "THpO-8iOpY-c"
      },
      "execution_count": null,
      "outputs": []
    },
    {
      "cell_type": "code",
      "execution_count": null,
      "metadata": {
        "id": "MJLLAn5xkdIf"
      },
      "outputs": [],
      "source": [
        "Data=[]\n",
        "for sf in sfs[:]:\n",
        "        patient_info=[]\n",
        "        try:\n",
        "          patient_info.append(sf.find('occurcountry').text)\n",
        "        except:\n",
        "            patient_info.append('nan')\n",
        "        try:\n",
        "            patient_info.append(sf.find('serious').text)\n",
        "        except:\n",
        "            patient_info.append('nan')\n",
        "        try:\n",
        "            patient_info.append(sf.find('seriousnessdeath').text)\n",
        "        except:\n",
        "            patient_info.append('nan')\n",
        "        try:\n",
        "            patient_info.append(sf.find('seriousnesslifethreatening').text)\n",
        "        except:\n",
        "            patient_info.append('nan')\n",
        "        try:\n",
        "            patient_info.append(sf.find('seriousnesshospitalization').text)\n",
        "        except:\n",
        "            patient_info.append('nan')\n",
        "        try:\n",
        "            patient_info.append(sf.find('seriousnessdisabling').text)\n",
        "        except:\n",
        "            patient_info.append('nan')\n",
        "        try:\n",
        "            patient_info.append(sf.find('seriousnesscongenitalanomali').text)\n",
        "        except:\n",
        "            patient_info.append('nan')\n",
        "        try:\n",
        "            patient_info.append(sf.find('patient').find('patientonsetage').text)\n",
        "        except:\n",
        "            patient_info.append('nan')\n",
        "        try:\n",
        "            patient_info.append(sf.find('patient').find('patientsex').text)\n",
        "        except:\n",
        "            patient_info.append('nan')\n",
        "     \n",
        "        reactions= sf.find('patient').findall('reaction')\n",
        "        reaction_string=\"\"\n",
        "        for reaction in reactions:\n",
        "            rx=reaction.find('reactionmeddrapt').text\n",
        "            reaction_string=reaction_string + ',' + rx\n",
        "\n",
        "        try:\n",
        "            patient_info.append(reaction_string)\n",
        "        except:\n",
        "            patient_info.append('nan')\n",
        "\n",
        "        drugs=sf.find('patient').findall('drug')\n",
        "\n",
        "        med_string=\"\"\n",
        "        med_dosage=\"\"\n",
        "        med_indication=\"\"\n",
        "        med_startdate=\"\"\n",
        "        med_enddate=\"\"\n",
        "        med_dosageform=\"\"\n",
        "        med_admnroute=\"\"\n",
        "\n",
        "        for drug in drugs:\n",
        "            try:\n",
        "               dosage_form=drug.find('drugdosageform').text\n",
        "            except:\n",
        "               dosage_form='nan' \n",
        "            try:\n",
        "                start_date=drug.find('drugstartdate').text\n",
        "            except:\n",
        "               start_date='nan'\n",
        "            try: \n",
        "                end_date= drug.find('drugenddate').text\n",
        "            except:\n",
        "                end_date='nan'\n",
        "            try:\n",
        "                admn_route=drug.find('drugadministrationroute').text\n",
        "            except:\n",
        "                admn_route='nan'\n",
        "            try:\n",
        "                med=drug.find('medicinalproduct').text\n",
        "            except:\n",
        "                med='nan'\n",
        "            try:\n",
        "                dosage= drug.find('drugdosagetext').text\n",
        "            except:\n",
        "                dosage='nan'\n",
        "            try:\n",
        "                indication= drug.find('drugindication').text\n",
        "            except:\n",
        "                indication='nan'\n",
        "\n",
        "            med_startdate=med_startdate + ',' + start_date\n",
        "            med_enddate=med_enddate+ ',' + end_date\n",
        "            med_admnroute=med_admnroute + ','+ admn_route\n",
        "            med_dosageform=med_dosageform + ',' + dosage_form\n",
        "            med_string=med_string + ','  + med\n",
        "            med_dosage=med_dosage+ ',' + dosage\n",
        "            med_indication= med_indication+ ',' + indication\n",
        "\n",
        "        \n",
        "        patient_info.append(med_string)\n",
        "        patient_info.append(med_dosage)\n",
        "        patient_info.append(med_indication)\n",
        "        patient_info.append(med_startdate)\n",
        "        patient_info.append(med_enddate)\n",
        "        patient_info.append(med_dosageform)\n",
        "        patient_info.append(med_admnroute)\n",
        "        Data.append(patient_info)\n",
        "#Save extracted data to csv        \n",
        "import pandas as pd\n",
        "df=pd.DataFrame(Data)\n",
        "df.to_csv('2_ADR22Q1_80000_100000.csv', sep=',', index=False)"
      ]
    },
    {
      "cell_type": "code",
      "source": [
        "#Read the parsed csv to pandas dataframe\n",
        "df=pd.read_csv('/content/2_ADR22Q1_80000_100000.csv')\n",
        "df.shape"
      ],
      "metadata": {
        "colab": {
          "base_uri": "https://localhost:8080/"
        },
        "id": "zkl75-oDuC0x",
        "outputId": "2f51e5ec-8728-4e42-d802-32c2a90be4bb"
      },
      "execution_count": null,
      "outputs": [
        {
          "output_type": "execute_result",
          "data": {
            "text/plain": [
              "(166281, 17)"
            ]
          },
          "metadata": {},
          "execution_count": 5
        }
      ]
    },
    {
      "cell_type": "code",
      "source": [
        "#Extract and save patients with rheumatoid_athritis to another CSV for downstream analysis\n",
        "df['12']=df['12'].str.lower()\n",
        "df_rheumatoid_athritis=df[df['12']==',rheumatoid arthritis']\n",
        "df_rheumatoid_athritis.to_csv('df_rheumatoid_athritis4.csv', sep=',', index=False)"
      ],
      "metadata": {
        "id": "bT9i2ydxsoyI"
      },
      "execution_count": null,
      "outputs": []
    },
    {
      "cell_type": "markdown",
      "source": [
        "# **Data Cleaning**\n",
        "**Steps to Cleaning the dataset**\n",
        "\n",
        "\n",
        "1.   Extract information of people who suffers the following adverse effects:Pain, Headache, Nausea, Vomiting, Rash, Pneumonia, Swelling and Infection. \n",
        "2. Extracting the needed columns namely Country,Age,Gender,Drug Name, Drug Form Drug Route of Administration and Reactions from the output of step 1 above.\n",
        "3. Cleaning the Columns with badly formatted names.\n",
        "4.One Hot Encode the Target/Reaction Column\n",
        "5. Fill all missng Values as -9999\n",
        "6.Label encode the other Categorical Columns: Country, Drug Name, Drug Form Drug Route of Administration\n",
        "\n",
        "\n"
      ],
      "metadata": {
        "id": "xBe6YLIos1hP"
      }
    },
    {
      "cell_type": "code",
      "source": [
        "import pandas as pd\n",
        "df=pd.read_csv('/content/drive/MyDrive/Rh/Uncleaned_Data.csv')"
      ],
      "metadata": {
        "id": "qsJpW0FoCYkp"
      },
      "execution_count": null,
      "outputs": []
    },
    {
      "cell_type": "markdown",
      "source": [
        "Step 1:Extract information of people who suffers the following adverse effects:Pain, Headache, Nausea, Vomiting, Rash, Pneumonia, Swelling and Infection."
      ],
      "metadata": {
        "id": "9YjV2eWcFC1M"
      }
    },
    {
      "cell_type": "code",
      "source": [
        "df['9']=df['9'].str.lower()\n",
        "df_pain=df[(df['9'].str.contains('pain')) | (df['9'].str.contains('arthralgia')) ]\n",
        "df_swelling= df[df['9'].str.contains('swelling')]\n",
        "df_vomiting= df[df['9'].str.contains('vomiting')]\n",
        "df_headache= df[df['9'].str.contains('headache')]\n",
        "df_infection= df[df['9'].str.contains('infection')]\n",
        "df_pneumonia= df[df['9'].str.contains('pneumonia')]\n",
        "df_rash= df[df['9'].str.contains('rash')]\n",
        "df_nausea= df[df['9'].str.contains('nausea')]\n",
        "df_death= df[df['9'].str.contains('death')]"
      ],
      "metadata": {
        "id": "ugaH-SXTMhpa"
      },
      "execution_count": null,
      "outputs": []
    },
    {
      "cell_type": "code",
      "source": [
        "df_headache['reaction']='headache'\n",
        "df_pain['reaction']='pain'\n",
        "df_swelling['reaction']='swelling'\n",
        "df_vomiting['reaction']='vomiting'\n",
        "df_pneumonia['reaction']='pneumonia'\n",
        "df_death['reaction']='death'\n",
        "df_rash['reaction']='rash'\n",
        "df_nausea['reaction']='nausea'\n",
        "df_infection['reaction']='infection'"
      ],
      "metadata": {
        "id": "x6Yrd4jRTILx"
      },
      "execution_count": null,
      "outputs": []
    },
    {
      "cell_type": "code",
      "source": [
        "df_rx=pd.concat([df_headache,df_pain,df_swelling, df_vomiting, df_pneumonia, df_death,df_rash, df_nausea, df_infection ])"
      ],
      "metadata": {
        "id": "RZMsZfJ8UobG"
      },
      "execution_count": null,
      "outputs": []
    },
    {
      "cell_type": "code",
      "source": [
        "df_rx=df_rx.drop_duplicates().reset_index(drop=True)"
      ],
      "metadata": {
        "id": "AW8SFk1V-oNo"
      },
      "execution_count": null,
      "outputs": []
    },
    {
      "cell_type": "code",
      "source": [
        "df_rx.shape"
      ],
      "metadata": {
        "colab": {
          "base_uri": "https://localhost:8080/"
        },
        "id": "KVGKxSYLhIkf",
        "outputId": "c6a19cd2-f273-4017-c869-77392c0a153a"
      },
      "execution_count": null,
      "outputs": [
        {
          "output_type": "execute_result",
          "data": {
            "text/plain": [
              "(32758, 18)"
            ]
          },
          "metadata": {},
          "execution_count": 7
        }
      ]
    },
    {
      "cell_type": "markdown",
      "source": [
        "Step 2: Extracting the needed columns namely Country,Age,Gender,Drug Name, Drug Form Drug Route of Administration and Reactions from the output of step 1 above."
      ],
      "metadata": {
        "id": "LphPoKypF50o"
      }
    },
    {
      "cell_type": "code",
      "source": [
        "df_rx=df_rx [['0','7', '8', '10', '15', '16', 'reaction' ]]\n",
        "df_rx=df_rx.reset_index().drop('index', axis=1)\n",
        "df_rx['16']= df_rx['16'].str[1:]\n",
        "df_rx['10']= df_rx['10'].str[1:]\n",
        "df_rx['15']= df_rx['15'].str[1:]"
      ],
      "metadata": {
        "id": "ihvZ319pVL32"
      },
      "execution_count": null,
      "outputs": []
    },
    {
      "cell_type": "code",
      "source": [
        "# rename nan as NAN\n",
        "import numpy as np\n",
        "df_rx.replace('nan', np.nan, inplace=True)"
      ],
      "metadata": {
        "id": "9T21QqEsBSkF"
      },
      "execution_count": null,
      "outputs": []
    },
    {
      "cell_type": "markdown",
      "source": [
        "Step 3: Cleaning the Columns with badly formatted names."
      ],
      "metadata": {
        "id": "TVjjI11RGI4g"
      }
    },
    {
      "cell_type": "code",
      "source": [
        "df_rx['15']=df_rx['15'].str.lower()\n",
        "df_rx['15'].replace('solution for injection in pre-filled syringe', 'injection', inplace=True)\n",
        "df_rx['15'].replace('solution for injection', 'injection', inplace=True)\n",
        "df_rx['15'].replace('solution for injection in pre-filled pen', 'injection', inplace=True)\n",
        "df_rx['15'].replace('solution for infusion', 'infusion', inplace=True)\n",
        "df_rx['15'].replace('infusion, solution', 'infusion', inplace=True)\n",
        "df_rx['15'].replace('pre-filled syringe', 'injection', inplace=True)\n",
        "df_rx['15'].replace('prolonged-release tablet', 'prolonged-release tablet', inplace=True)\n",
        "df_rx['15'].replace('capsule, hard', 'Tablet', inplace=True)\n",
        "df_rx['15'].replace('coated tablet', 'Tablet', inplace=True)\n",
        "df_rx['15'].replace('concentrate for solution for infusion', 'infusion', inplace=True)\n",
        "df_rx['15'].replace('powder for solution for infusion', 'infusion', inplace=True)\n",
        "df_rx['15'].replace('infusion', 'infusion', inplace=True)\n",
        "df_rx['15'].replace('powder and solvent for solution for injection', 'injection', inplace=True)\n",
        "df_rx['15'].replace('unknown formulation', np.nan, inplace=True)\n",
        "df_rx['15'].replace('unknown', np.nan, inplace=True)\n",
        "df_rx['15'].replace('extended release', 'extended release', inplace=True)\n",
        "df_rx['15'].replace('extended released', 'extended release', inplace=True)\n",
        "df_rx['15'].replace('extended release', 'extended release', inplace=True)\n",
        "df_rx['15'].replace('suspension for injection in pre-filled pen', 'injection', inplace=True)\n",
        "df_rx['15'].replace('film-coated tablet', 'Tablet', inplace=True)\n",
        "df_rx['15'].replace('capsule', 'Tablet', inplace=True)\n",
        "df_rx['15'].replace('pen', 'injection', inplace=True)\n",
        "df_rx['15'].replace('tablets', 'Tablet', inplace=True)\n",
        "df_rx['15'].replace('er', 'extended release', inplace=True)\n",
        "df_rx['15'].replace('powder for injection', 'injection', inplace=True)\n",
        "df_rx['15'].replace('modified-release tablet', 'Tablet', inplace=True)\n",
        "df_rx['15'].replace('tablet', 'Tablet', inplace=True)\n",
        "df_rx['15'].replace('solution for infusion in pre-filled syringe', 'infusion', inplace=True)\n",
        "df_rx['15'].replace('injection', 'injection', inplace=True)\n",
        "df_rx['15'].replace('suspension for injection', 'injection', inplace=True)\n",
        "df_rx['15'].replace('injection for subcutaneous use', 'injection', inplace=True)\n",
        "df_rx['15'].replace('soln for inject in pre-filled syringe', 'injection', inplace=True)\n",
        "df_rx['15'].replace('unspecified', np.nan, inplace=True)\n",
        "df_rx['15'].replace('scored tablet', 'Tablet', inplace=True)\n",
        "df_rx['15'].replace('pill', 'Tablet', inplace=True)\n"
      ],
      "metadata": {
        "id": "FED3tiyUjyJz"
      },
      "execution_count": null,
      "outputs": []
    },
    {
      "cell_type": "code",
      "source": [
        "df=df_rx.copy()"
      ],
      "metadata": {
        "id": "dgiz6eCfHgzz"
      },
      "execution_count": null,
      "outputs": []
    },
    {
      "cell_type": "code",
      "source": [
        "df['10'].replace('ACTEMRA ACTPEN','ACTEMRA', inplace=True)\n",
        "df['10'].replace('ADALIMUMAB (ADALIMUMAB 40MG/0.8ML INJ, SYRINGE, KIT)','ADALIMUMAB', inplace=True)\n",
        "df['10'].replace('ADALIMUMAB (ADALIMUMAB 40MG/0.8ML INJ,PEN,KIT)','ADALIMUMAB', inplace=True)\n",
        "df['10'].replace('BARICITINIB 2MG','BARICITINIB', inplace=True)\n",
        "df['10'].replace('BARICITINIB.','BARICITINIB', inplace=True)\n",
        "df['10'].replace('CELECOXIB.','CELECOXIB', inplace=True)\n",
        "df['10'].replace('CERTOLIZUMAB PEGOL AUTOCLICKS','CERTOLIZUMAB PEGOL', inplace=True)\n",
        "df['10'].replace('CERTOLIZUMAB PEGOL RA', 'CERTOLIZUMAB PEGOL', inplace=True)\n",
        "df['10'].replace('CERTOLIZUMAB PEGOL RA AUTOCLICKS','CERTOLIZUMAB PEGOL', inplace=True)\n",
        "df['10'].replace('CERTOLIZUMAB PEGOL RA AVA','CERTOLIZUMAB PEGOL', inplace=True)\n",
        "df['10'].replace('DRUG, UNSPECIFIED',np.nan, inplace=True)\n",
        "df['10'].replace('ERELZI (ETANERCEPT)','ERELZI', inplace=True)\n",
        "df['10'].replace('GABAPENTIN.','GABAPENTIN CAPSULES', inplace=True)\n",
        "df['10'].replace('GOLIMUMAB SOLUTION FOR INJECTION','GOLIMUMAB', inplace=True)\n",
        "df['10'].replace('HYDROXYCHLOROQUINE 200MG','HYDROXYCHLOROQUINE', inplace=True)\n",
        "df['10'].replace('GOLIMUMAB SOLUTION FOR INJECTION IN PRE-FILLED PEN','GOLIMUMAB', inplace=True)\n",
        "df['10'].replace('HYDROXYCHLOROQUINE 200MG TAB, 200MG','HYDROXYCHLOROQUINE', inplace=True)\n",
        "df['10'].replace('HYDROXYCHLOROQUINE SULFATE','HYDROXYCHLOROQUINE', inplace=True)\n",
        "df['10'].replace('HYDROXYCHLOROQUINE SULFATE (AUTHORIZED GENERIC),PLAQUENIL','HYDROXYCHLOROQUINE', inplace=True)\n",
        "df['10'].replace('HYDROXYCHLOROQUINE SULFATE.','HYDROXYCHLOROQUINE', inplace=True)\n",
        "df['10'].replace('INFLIXIMAB, RECOMBINANT','INFLIXIMAB', inplace=True)\n",
        "df['10'].replace('INFLIXIMAB-DYYB (INFLIXIMAB-DYYB 100MG/VIL INJ,LYPHL)','INFLIXIMAB', inplace=True)\n",
        "df['10'].replace('LEFLUNOMIDE.','LEFLUNOMIDE', inplace=True)\n",
        "df['10'].replace('LYRICA CR','LYRICA', inplace=True)\n",
        "df['10']=df['10'].str.replace(r'(^.*METHOTREXAT.*$)', 'METHOTREXATE', regex=True)\n",
        "df['10']=df['10'].str.replace(r'(^.METHOTREXATE.*$)', 'METHOTREXATE', regex=True)\n",
        "df['10'].replace('MYCOPHENOLATE 500MG ACCORD HEALTHCARE', 'MYCOPHENOLATE', inplace=True)\n",
        "df['10'].replace('MYCOPHENOLATE MOFETIL.', 'MYCOPHENOLATE', inplace=True)\n",
        "df['10'].replace('PREDNISONE (PREDNISONE 10MG TAB)', 'PREDNISONE', inplace=True)\n",
        "df['10'].replace('PREDNISONE (PREDNISONE 5MG TAB)', 'PREDNISONE', inplace=True)\n",
        "df['10'].replace('PREDNISONE.', 'PREDNISONE', inplace=True)\n",
        "df['10'].replace('RITUXIMAB (UNKNOWN)', 'RITUXIMAB', inplace=True)\n",
        "df['10'].replace('RITUXIMAB.', 'RITUXIMAB', inplace=True)\n",
        "df['10'].replace('RITUXIMAB-PVVR', 'RITUXIMAB', inplace=True)\n",
        "df['10'].replace('SALAZOPYRIN EN','SALAZOPYRIN', inplace=True)\n",
        "df['10'].replace('SALAZOPYRIN EN-TABS','SALAZOPYRIN', inplace=True)\n",
        "df['10'].replace('SIMPONI ARIA', 'SIMPONI', inplace=True)\n",
        "df['10'].replace('SULFASALAZINE / BRAND NAME NOT SPECIFIED','SULFASALAZINE', inplace=True)\n",
        "df['10'].replace('SULFASALAZINE.','SULFASALAZINE', inplace=True)\n",
        "df['10'].replace('TOCILIZUMAB.', 'TOCILIZUMAB', inplace=True)\n",
        "df['10'].replace('TOFACITINIB CITRATE', 'TOFACITINIB', inplace=True)\n",
        "df['10'].replace('UPADACITINIB (UPADACITINIB 15MG 24HR TAB,SA)', 'UPADACITINIB', inplace=True)\n",
        "df['10'].replace('VOLTAREN ARTHRITIS PAIN', 'VOLTAREN', inplace=True)\n",
        "df['10'].replace( 'XELJANZ XR', 'XELJANZ', inplace=True)\n",
        " "
      ],
      "metadata": {
        "id": "wfejoupoAtNW"
      },
      "execution_count": null,
      "outputs": []
    },
    {
      "cell_type": "code",
      "source": [
        "df_rx=df.copy()"
      ],
      "metadata": {
        "id": "PDuSGDa_HmgR"
      },
      "execution_count": null,
      "outputs": []
    },
    {
      "cell_type": "markdown",
      "source": [
        "Step 4: One Hot Encode the Target/Reaction Column"
      ],
      "metadata": {
        "id": "V1gEPjbaINp3"
      }
    },
    {
      "cell_type": "code",
      "source": [
        "dummies=pd.get_dummies(df_rx['reaction'])\n",
        "df_rx=pd.concat([df_rx, dummies], axis=1)\n",
        "df_rx=df_rx.drop_duplicates()\n",
        "df_rx.drop('reaction', axis=1, inplace=True)"
      ],
      "metadata": {
        "id": "9pj0hCcrqO26"
      },
      "execution_count": null,
      "outputs": []
    },
    {
      "cell_type": "markdown",
      "source": [
        "Step 5: Fill all missng Values as -9999"
      ],
      "metadata": {
        "id": "LjdHf8naIbe6"
      }
    },
    {
      "cell_type": "code",
      "source": [
        "df_rx.fillna(-9999, inplace=True)"
      ],
      "metadata": {
        "id": "eg3vb83xIaH0"
      },
      "execution_count": null,
      "outputs": []
    },
    {
      "cell_type": "markdown",
      "source": [
        "Step 6: Label encode the other Categorical Columns: Country, Drug Name, Drug Form Drug Route of Administration"
      ],
      "metadata": {
        "id": "axOurC9dIIXb"
      }
    },
    {
      "cell_type": "code",
      "source": [
        "from sklearn.preprocessing import LabelEncoder\n",
        "le=LabelEncoder()"
      ],
      "metadata": {
        "id": "AePIUXhO7S-x"
      },
      "execution_count": null,
      "outputs": []
    },
    {
      "cell_type": "code",
      "source": [
        "import pickle\n",
        "\n",
        "df_rx['0']=le.fit_transform(df_rx['0'].astype(str))\n",
        "output = open('Country.pkl', 'wb') # Save label encoder as a Pickled file for latter use\n",
        "pickle.dump(le, output)\n",
        "output.close()\n",
        "\n",
        "df_rx['10']=le.fit_transform(df_rx['10'].astype(str))\n",
        "output = open('Drug.pkl', 'wb')  # Save label encoder as a Pickled file for latter use\n",
        "pickle.dump(le, output)\n",
        "output.close()\n",
        "\n",
        "df_rx['15']=le.fit_transform(df_rx['15'].astype(str))\n",
        "output = open('Drug_Form.pkl', 'wb')  # Save label encoder as a Pickled file for latter use\n",
        "pickle.dump(le, output)\n",
        "output.close()\n",
        "\n",
        "df_rx['16']= le.fit_transform(df_rx['16'].astype(str))\n",
        "output = open('Route_of _Administration.pkl', 'wb') # Save label encoder as a Pickled file for latter use\n",
        "pickle.dump(le, output)\n",
        "output.close()"
      ],
      "metadata": {
        "id": "Mmjj4SYS7y8R"
      },
      "execution_count": null,
      "outputs": []
    },
    {
      "cell_type": "markdown",
      "source": [
        "# **Building the Machine Learning Model**"
      ],
      "metadata": {
        "id": "qGIXPR2GCxya"
      }
    },
    {
      "cell_type": "code",
      "source": [
        "#Install catboost\n",
        "!pip install catboost"
      ],
      "metadata": {
        "id": "-pXF4-xsMbMV",
        "colab": {
          "base_uri": "https://localhost:8080/"
        },
        "outputId": "d26d18b2-366b-4a33-cd3b-2233bc1b9b62"
      },
      "execution_count": null,
      "outputs": [
        {
          "output_type": "stream",
          "name": "stdout",
          "text": [
            "Looking in indexes: https://pypi.org/simple, https://us-python.pkg.dev/colab-wheels/public/simple/\n",
            "Collecting catboost\n",
            "  Downloading catboost-1.0.6-cp37-none-manylinux1_x86_64.whl (76.6 MB)\n",
            "\u001b[K     |████████████████████████████████| 76.6 MB 1.2 MB/s \n",
            "\u001b[?25hRequirement already satisfied: plotly in /usr/local/lib/python3.7/dist-packages (from catboost) (5.5.0)\n",
            "Requirement already satisfied: numpy>=1.16.0 in /usr/local/lib/python3.7/dist-packages (from catboost) (1.21.6)\n",
            "Requirement already satisfied: six in /usr/local/lib/python3.7/dist-packages (from catboost) (1.15.0)\n",
            "Requirement already satisfied: scipy in /usr/local/lib/python3.7/dist-packages (from catboost) (1.7.3)\n",
            "Requirement already satisfied: pandas>=0.24.0 in /usr/local/lib/python3.7/dist-packages (from catboost) (1.3.5)\n",
            "Requirement already satisfied: graphviz in /usr/local/lib/python3.7/dist-packages (from catboost) (0.10.1)\n",
            "Requirement already satisfied: matplotlib in /usr/local/lib/python3.7/dist-packages (from catboost) (3.2.2)\n",
            "Requirement already satisfied: python-dateutil>=2.7.3 in /usr/local/lib/python3.7/dist-packages (from pandas>=0.24.0->catboost) (2.8.2)\n",
            "Requirement already satisfied: pytz>=2017.3 in /usr/local/lib/python3.7/dist-packages (from pandas>=0.24.0->catboost) (2022.2.1)\n",
            "Requirement already satisfied: cycler>=0.10 in /usr/local/lib/python3.7/dist-packages (from matplotlib->catboost) (0.11.0)\n",
            "Requirement already satisfied: pyparsing!=2.0.4,!=2.1.2,!=2.1.6,>=2.0.1 in /usr/local/lib/python3.7/dist-packages (from matplotlib->catboost) (3.0.9)\n",
            "Requirement already satisfied: kiwisolver>=1.0.1 in /usr/local/lib/python3.7/dist-packages (from matplotlib->catboost) (1.4.4)\n",
            "Requirement already satisfied: typing-extensions in /usr/local/lib/python3.7/dist-packages (from kiwisolver>=1.0.1->matplotlib->catboost) (4.1.1)\n",
            "Requirement already satisfied: tenacity>=6.2.0 in /usr/local/lib/python3.7/dist-packages (from plotly->catboost) (8.0.1)\n",
            "Installing collected packages: catboost\n",
            "Successfully installed catboost-1.0.6\n"
          ]
        }
      ]
    },
    {
      "cell_type": "code",
      "source": [
        "#Independent Variables\n",
        "X=df_rx[['0', '7', '8', '10', '15', '16']]"
      ],
      "metadata": {
        "id": "iXahHBeiMWCI"
      },
      "execution_count": null,
      "outputs": []
    },
    {
      "cell_type": "code",
      "source": [
        "from catboost import CatBoostClassifier\n",
        "from sklearn.model_selection import train_test_split\n",
        "from sklearn.metrics import recall_score\n",
        "model_scores={}\n",
        "\n",
        "# Build a model for each of the eight adverse effect and return a dictionary of each model and respective performance on the test dataset\n",
        "for i in ['infection','pain', 'swelling', 'vomiting', 'headache', 'rash', 'nausea', 'pneumonia']:\n",
        "  Y=df_rx[i]\n",
        "  X_train, X_test, y_train, y_test = train_test_split( X, Y, test_size=0.3, random_state=42) #Split Dataset to train and test \n",
        "  model=CatBoostClassifier(verbose=0)\n",
        "  model.fit(X_train, y_train)\n",
        "  Accuracy=model.score(X_test, y_test)\n",
        "  Recall= recall_score(y_test, model.predict(X_test))\n",
        "  sc=[Accuracy,Recall]\n",
        "  model_scores[i]=sc\n",
        "print(model_scores)"
      ],
      "metadata": {
        "id": "bOb3tndSC-EH",
        "colab": {
          "base_uri": "https://localhost:8080/"
        },
        "outputId": "ddeb9fe4-ae83-4d6b-dec4-8f01adeb2f57"
      },
      "execution_count": null,
      "outputs": [
        {
          "output_type": "stream",
          "name": "stdout",
          "text": [
            "{'infection': [0.7944664031620553, 0.08972691807542263], 'pain': [0.7333333333333333, 0.01818181818181818], 'swelling': [0.8843214756258234, 0.0023148148148148147], 'vomiting': [0.9633728590250329, 0.0], 'headache': [0.9343873517786562, 0.0], 'rash': [0.9433465085638999, 0.0], 'nausea': [0.9552042160737813, 0.0], 'pneumonia': [0.9014492753623189, 0.00821917808219178]}\n"
          ]
        }
      ]
    },
    {
      "cell_type": "code",
      "source": [
        "scores=pd.DataFrame(model_scores).T\n",
        "scores.rename(columns={0:'Accuracy', 1:'Recall'}, inplace=True)"
      ],
      "metadata": {
        "id": "-pLvFwJGHrLS"
      },
      "execution_count": null,
      "outputs": []
    },
    {
      "cell_type": "code",
      "source": [
        "import matplotlib.pyplot as plt\n",
        "\n",
        "scores.plot(kind='bar', figsize=(16,8))\n",
        "plt.title('Model Evaluation')\n",
        "plt.ylabel('Evaluation Scores')\n",
        "plt.xlabel('Models')\n",
        "plt.xticks(rotation=70)\n",
        "plt.savefig('Model_eval.jpg')"
      ],
      "metadata": {
        "colab": {
          "base_uri": "https://localhost:8080/",
          "height": 559
        },
        "id": "e70zdIIQINPy",
        "outputId": "9f38b67d-9b85-4ce3-f86a-2a63d647128e"
      },
      "execution_count": null,
      "outputs": [
        {
          "output_type": "display_data",
          "data": {
            "text/plain": [
              "<Figure size 1152x576 with 1 Axes>"
            ],
            "image/png": "[encoded data removed]"
          },
          "metadata": {
            "needs_background": "light"
          }
        }
      ]
    },
    {
      "cell_type": "markdown",
      "source": [
        "Building Final Model"
      ],
      "metadata": {
        "id": "2Jwmw7KAKs-z"
      }
    },
    {
      "cell_type": "code",
      "source": [
        "from catboost import CatBoostClassifier\n",
        "for i in ['infection','pain', 'swelling', 'vomiting', 'headache', 'rash', 'nausea', 'pneumonia']:\n",
        "  X=df_rx[['0', '7', '8', '10', '15', '16']]\n",
        "  Y=df_rx[i]\n",
        "  model= CatBoostClassifier(verbose=0)\n",
        "  model.fit(X, Y)\n",
        "  model.save_model(i) # Saving the model for Future use.\n"
      ],
      "metadata": {
        "id": "4qlVgdTuej-J"
      },
      "execution_count": null,
      "outputs": []
    }
  ]
}